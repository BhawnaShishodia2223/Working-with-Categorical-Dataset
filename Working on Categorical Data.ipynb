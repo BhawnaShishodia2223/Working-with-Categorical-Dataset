{
 "cells": [
  {
   "cell_type": "code",
   "execution_count": 1,
   "metadata": {},
   "outputs": [],
   "source": [
    "import pandas as pd\n",
    "import matplotlib.pyplot as plt\n",
    "import numpy as np"
   ]
  },
  {
   "cell_type": "code",
   "execution_count": 2,
   "metadata": {},
   "outputs": [],
   "source": [
    "data = pd.read_csv(\"Datasets/test.csv\", header=None)"
   ]
  },
  {
   "cell_type": "code",
   "execution_count": 3,
   "metadata": {},
   "outputs": [
    {
     "data": {
      "text/html": [
       "<div>\n",
       "<style scoped>\n",
       "    .dataframe tbody tr th:only-of-type {\n",
       "        vertical-align: middle;\n",
       "    }\n",
       "\n",
       "    .dataframe tbody tr th {\n",
       "        vertical-align: top;\n",
       "    }\n",
       "\n",
       "    .dataframe thead th {\n",
       "        text-align: right;\n",
       "    }\n",
       "</style>\n",
       "<table border=\"1\" class=\"dataframe\">\n",
       "  <thead>\n",
       "    <tr style=\"text-align: right;\">\n",
       "      <th></th>\n",
       "      <th>0</th>\n",
       "      <th>1</th>\n",
       "      <th>2</th>\n",
       "      <th>3</th>\n",
       "      <th>4</th>\n",
       "      <th>5</th>\n",
       "      <th>6</th>\n",
       "      <th>7</th>\n",
       "      <th>8</th>\n",
       "      <th>9</th>\n",
       "      <th>...</th>\n",
       "      <th>111</th>\n",
       "      <th>112</th>\n",
       "      <th>113</th>\n",
       "      <th>114</th>\n",
       "      <th>115</th>\n",
       "      <th>116</th>\n",
       "      <th>117</th>\n",
       "      <th>118</th>\n",
       "      <th>119</th>\n",
       "      <th>120</th>\n",
       "    </tr>\n",
       "  </thead>\n",
       "  <tbody>\n",
       "    <tr>\n",
       "      <th>0</th>\n",
       "      <td>11.0024</td>\n",
       "      <td>-7.4122</td>\n",
       "      <td>-0.3357</td>\n",
       "      <td>-12.6771</td>\n",
       "      <td>-7.9452</td>\n",
       "      <td>12.8970</td>\n",
       "      <td>-1.8094</td>\n",
       "      <td>-4.8578</td>\n",
       "      <td>6.2107</td>\n",
       "      <td>-8.1686</td>\n",
       "      <td>...</td>\n",
       "      <td>-1.2188</td>\n",
       "      <td>-25.6730</td>\n",
       "      <td>1.8100</td>\n",
       "      <td>27.9311</td>\n",
       "      <td>-1.1102</td>\n",
       "      <td>30.6666</td>\n",
       "      <td>-8.6215</td>\n",
       "      <td>-6.8471</td>\n",
       "      <td>14.2714</td>\n",
       "      <td>1</td>\n",
       "    </tr>\n",
       "    <tr>\n",
       "      <th>1</th>\n",
       "      <td>6.9323</td>\n",
       "      <td>-1.4870</td>\n",
       "      <td>-2.9409</td>\n",
       "      <td>-11.1946</td>\n",
       "      <td>-1.2109</td>\n",
       "      <td>4.0003</td>\n",
       "      <td>-3.4731</td>\n",
       "      <td>-5.0547</td>\n",
       "      <td>-6.1360</td>\n",
       "      <td>10.1343</td>\n",
       "      <td>...</td>\n",
       "      <td>0.6728</td>\n",
       "      <td>-33.1700</td>\n",
       "      <td>-13.3762</td>\n",
       "      <td>31.4007</td>\n",
       "      <td>6.2253</td>\n",
       "      <td>20.5491</td>\n",
       "      <td>-6.7502</td>\n",
       "      <td>3.9887</td>\n",
       "      <td>0.8218</td>\n",
       "      <td>1</td>\n",
       "    </tr>\n",
       "    <tr>\n",
       "      <th>2</th>\n",
       "      <td>-2.1039</td>\n",
       "      <td>-9.0168</td>\n",
       "      <td>-2.0643</td>\n",
       "      <td>-7.0798</td>\n",
       "      <td>-3.6211</td>\n",
       "      <td>-2.2043</td>\n",
       "      <td>8.8834</td>\n",
       "      <td>-11.7823</td>\n",
       "      <td>-27.3388</td>\n",
       "      <td>-18.7724</td>\n",
       "      <td>...</td>\n",
       "      <td>1.0769</td>\n",
       "      <td>-19.5188</td>\n",
       "      <td>-2.7786</td>\n",
       "      <td>20.9467</td>\n",
       "      <td>-14.6440</td>\n",
       "      <td>20.7148</td>\n",
       "      <td>-12.1842</td>\n",
       "      <td>-4.7982</td>\n",
       "      <td>7.9128</td>\n",
       "      <td>1</td>\n",
       "    </tr>\n",
       "    <tr>\n",
       "      <th>3</th>\n",
       "      <td>0.3853</td>\n",
       "      <td>0.8456</td>\n",
       "      <td>-14.7022</td>\n",
       "      <td>-0.8235</td>\n",
       "      <td>2.1641</td>\n",
       "      <td>-11.4608</td>\n",
       "      <td>5.4729</td>\n",
       "      <td>-1.5827</td>\n",
       "      <td>-14.0262</td>\n",
       "      <td>-16.0390</td>\n",
       "      <td>...</td>\n",
       "      <td>1.9557</td>\n",
       "      <td>-37.4715</td>\n",
       "      <td>-13.4394</td>\n",
       "      <td>18.5138</td>\n",
       "      <td>-22.5882</td>\n",
       "      <td>20.8300</td>\n",
       "      <td>-11.4915</td>\n",
       "      <td>-0.3215</td>\n",
       "      <td>-14.5740</td>\n",
       "      <td>1</td>\n",
       "    </tr>\n",
       "    <tr>\n",
       "      <th>4</th>\n",
       "      <td>2.2298</td>\n",
       "      <td>-14.8218</td>\n",
       "      <td>-17.7374</td>\n",
       "      <td>8.0204</td>\n",
       "      <td>21.5855</td>\n",
       "      <td>8.4006</td>\n",
       "      <td>-10.0835</td>\n",
       "      <td>13.7660</td>\n",
       "      <td>-22.4206</td>\n",
       "      <td>-9.7743</td>\n",
       "      <td>...</td>\n",
       "      <td>4.8283</td>\n",
       "      <td>-17.9625</td>\n",
       "      <td>2.1550</td>\n",
       "      <td>-2.8129</td>\n",
       "      <td>-24.8584</td>\n",
       "      <td>24.2855</td>\n",
       "      <td>0.7311</td>\n",
       "      <td>-1.4030</td>\n",
       "      <td>18.9437</td>\n",
       "      <td>1</td>\n",
       "    </tr>\n",
       "  </tbody>\n",
       "</table>\n",
       "<p>5 rows × 121 columns</p>\n",
       "</div>"
      ],
      "text/plain": [
       "       0        1        2        3        4        5        6        7    \\\n",
       "0  11.0024  -7.4122  -0.3357 -12.6771  -7.9452  12.8970  -1.8094  -4.8578   \n",
       "1   6.9323  -1.4870  -2.9409 -11.1946  -1.2109   4.0003  -3.4731  -5.0547   \n",
       "2  -2.1039  -9.0168  -2.0643  -7.0798  -3.6211  -2.2043   8.8834 -11.7823   \n",
       "3   0.3853   0.8456 -14.7022  -0.8235   2.1641 -11.4608   5.4729  -1.5827   \n",
       "4   2.2298 -14.8218 -17.7374   8.0204  21.5855   8.4006 -10.0835  13.7660   \n",
       "\n",
       "       8        9    ...     111      112      113      114      115      116  \\\n",
       "0   6.2107  -8.1686  ... -1.2188 -25.6730   1.8100  27.9311  -1.1102  30.6666   \n",
       "1  -6.1360  10.1343  ...  0.6728 -33.1700 -13.3762  31.4007   6.2253  20.5491   \n",
       "2 -27.3388 -18.7724  ...  1.0769 -19.5188  -2.7786  20.9467 -14.6440  20.7148   \n",
       "3 -14.0262 -16.0390  ...  1.9557 -37.4715 -13.4394  18.5138 -22.5882  20.8300   \n",
       "4 -22.4206  -9.7743  ...  4.8283 -17.9625   2.1550  -2.8129 -24.8584  24.2855   \n",
       "\n",
       "       117     118      119  120  \n",
       "0  -8.6215 -6.8471  14.2714    1  \n",
       "1  -6.7502  3.9887   0.8218    1  \n",
       "2 -12.1842 -4.7982   7.9128    1  \n",
       "3 -11.4915 -0.3215 -14.5740    1  \n",
       "4   0.7311 -1.4030  18.9437    1  \n",
       "\n",
       "[5 rows x 121 columns]"
      ]
     },
     "execution_count": 3,
     "metadata": {},
     "output_type": "execute_result"
    }
   ],
   "source": [
    "data.head()"
   ]
  },
  {
   "cell_type": "code",
   "execution_count": 4,
   "metadata": {},
   "outputs": [],
   "source": [
    "x = data.iloc[:,0:120]"
   ]
  },
  {
   "cell_type": "code",
   "execution_count": 5,
   "metadata": {},
   "outputs": [
    {
     "data": {
      "text/html": [
       "<div>\n",
       "<style scoped>\n",
       "    .dataframe tbody tr th:only-of-type {\n",
       "        vertical-align: middle;\n",
       "    }\n",
       "\n",
       "    .dataframe tbody tr th {\n",
       "        vertical-align: top;\n",
       "    }\n",
       "\n",
       "    .dataframe thead th {\n",
       "        text-align: right;\n",
       "    }\n",
       "</style>\n",
       "<table border=\"1\" class=\"dataframe\">\n",
       "  <thead>\n",
       "    <tr style=\"text-align: right;\">\n",
       "      <th></th>\n",
       "      <th>0</th>\n",
       "      <th>1</th>\n",
       "      <th>2</th>\n",
       "      <th>3</th>\n",
       "      <th>4</th>\n",
       "      <th>5</th>\n",
       "      <th>6</th>\n",
       "      <th>7</th>\n",
       "      <th>8</th>\n",
       "      <th>9</th>\n",
       "      <th>...</th>\n",
       "      <th>110</th>\n",
       "      <th>111</th>\n",
       "      <th>112</th>\n",
       "      <th>113</th>\n",
       "      <th>114</th>\n",
       "      <th>115</th>\n",
       "      <th>116</th>\n",
       "      <th>117</th>\n",
       "      <th>118</th>\n",
       "      <th>119</th>\n",
       "    </tr>\n",
       "  </thead>\n",
       "  <tbody>\n",
       "    <tr>\n",
       "      <th>0</th>\n",
       "      <td>11.0024</td>\n",
       "      <td>-7.4122</td>\n",
       "      <td>-0.3357</td>\n",
       "      <td>-12.6771</td>\n",
       "      <td>-7.9452</td>\n",
       "      <td>12.8970</td>\n",
       "      <td>-1.8094</td>\n",
       "      <td>-4.8578</td>\n",
       "      <td>6.2107</td>\n",
       "      <td>-8.1686</td>\n",
       "      <td>...</td>\n",
       "      <td>-0.4552</td>\n",
       "      <td>-1.2188</td>\n",
       "      <td>-25.6730</td>\n",
       "      <td>1.8100</td>\n",
       "      <td>27.9311</td>\n",
       "      <td>-1.1102</td>\n",
       "      <td>30.6666</td>\n",
       "      <td>-8.6215</td>\n",
       "      <td>-6.8471</td>\n",
       "      <td>14.2714</td>\n",
       "    </tr>\n",
       "    <tr>\n",
       "      <th>1</th>\n",
       "      <td>6.9323</td>\n",
       "      <td>-1.4870</td>\n",
       "      <td>-2.9409</td>\n",
       "      <td>-11.1946</td>\n",
       "      <td>-1.2109</td>\n",
       "      <td>4.0003</td>\n",
       "      <td>-3.4731</td>\n",
       "      <td>-5.0547</td>\n",
       "      <td>-6.1360</td>\n",
       "      <td>10.1343</td>\n",
       "      <td>...</td>\n",
       "      <td>0.2200</td>\n",
       "      <td>0.6728</td>\n",
       "      <td>-33.1700</td>\n",
       "      <td>-13.3762</td>\n",
       "      <td>31.4007</td>\n",
       "      <td>6.2253</td>\n",
       "      <td>20.5491</td>\n",
       "      <td>-6.7502</td>\n",
       "      <td>3.9887</td>\n",
       "      <td>0.8218</td>\n",
       "    </tr>\n",
       "    <tr>\n",
       "      <th>2</th>\n",
       "      <td>-2.1039</td>\n",
       "      <td>-9.0168</td>\n",
       "      <td>-2.0643</td>\n",
       "      <td>-7.0798</td>\n",
       "      <td>-3.6211</td>\n",
       "      <td>-2.2043</td>\n",
       "      <td>8.8834</td>\n",
       "      <td>-11.7823</td>\n",
       "      <td>-27.3388</td>\n",
       "      <td>-18.7724</td>\n",
       "      <td>...</td>\n",
       "      <td>10.9293</td>\n",
       "      <td>1.0769</td>\n",
       "      <td>-19.5188</td>\n",
       "      <td>-2.7786</td>\n",
       "      <td>20.9467</td>\n",
       "      <td>-14.6440</td>\n",
       "      <td>20.7148</td>\n",
       "      <td>-12.1842</td>\n",
       "      <td>-4.7982</td>\n",
       "      <td>7.9128</td>\n",
       "    </tr>\n",
       "    <tr>\n",
       "      <th>3</th>\n",
       "      <td>0.3853</td>\n",
       "      <td>0.8456</td>\n",
       "      <td>-14.7022</td>\n",
       "      <td>-0.8235</td>\n",
       "      <td>2.1641</td>\n",
       "      <td>-11.4608</td>\n",
       "      <td>5.4729</td>\n",
       "      <td>-1.5827</td>\n",
       "      <td>-14.0262</td>\n",
       "      <td>-16.0390</td>\n",
       "      <td>...</td>\n",
       "      <td>3.4048</td>\n",
       "      <td>1.9557</td>\n",
       "      <td>-37.4715</td>\n",
       "      <td>-13.4394</td>\n",
       "      <td>18.5138</td>\n",
       "      <td>-22.5882</td>\n",
       "      <td>20.8300</td>\n",
       "      <td>-11.4915</td>\n",
       "      <td>-0.3215</td>\n",
       "      <td>-14.5740</td>\n",
       "    </tr>\n",
       "    <tr>\n",
       "      <th>4</th>\n",
       "      <td>2.2298</td>\n",
       "      <td>-14.8218</td>\n",
       "      <td>-17.7374</td>\n",
       "      <td>8.0204</td>\n",
       "      <td>21.5855</td>\n",
       "      <td>8.4006</td>\n",
       "      <td>-10.0835</td>\n",
       "      <td>13.7660</td>\n",
       "      <td>-22.4206</td>\n",
       "      <td>-9.7743</td>\n",
       "      <td>...</td>\n",
       "      <td>-7.8890</td>\n",
       "      <td>4.8283</td>\n",
       "      <td>-17.9625</td>\n",
       "      <td>2.1550</td>\n",
       "      <td>-2.8129</td>\n",
       "      <td>-24.8584</td>\n",
       "      <td>24.2855</td>\n",
       "      <td>0.7311</td>\n",
       "      <td>-1.4030</td>\n",
       "      <td>18.9437</td>\n",
       "    </tr>\n",
       "  </tbody>\n",
       "</table>\n",
       "<p>5 rows × 120 columns</p>\n",
       "</div>"
      ],
      "text/plain": [
       "       0        1        2        3        4        5        6        7    \\\n",
       "0  11.0024  -7.4122  -0.3357 -12.6771  -7.9452  12.8970  -1.8094  -4.8578   \n",
       "1   6.9323  -1.4870  -2.9409 -11.1946  -1.2109   4.0003  -3.4731  -5.0547   \n",
       "2  -2.1039  -9.0168  -2.0643  -7.0798  -3.6211  -2.2043   8.8834 -11.7823   \n",
       "3   0.3853   0.8456 -14.7022  -0.8235   2.1641 -11.4608   5.4729  -1.5827   \n",
       "4   2.2298 -14.8218 -17.7374   8.0204  21.5855   8.4006 -10.0835  13.7660   \n",
       "\n",
       "       8        9    ...      110     111      112      113      114      115  \\\n",
       "0   6.2107  -8.1686  ...  -0.4552 -1.2188 -25.6730   1.8100  27.9311  -1.1102   \n",
       "1  -6.1360  10.1343  ...   0.2200  0.6728 -33.1700 -13.3762  31.4007   6.2253   \n",
       "2 -27.3388 -18.7724  ...  10.9293  1.0769 -19.5188  -2.7786  20.9467 -14.6440   \n",
       "3 -14.0262 -16.0390  ...   3.4048  1.9557 -37.4715 -13.4394  18.5138 -22.5882   \n",
       "4 -22.4206  -9.7743  ...  -7.8890  4.8283 -17.9625   2.1550  -2.8129 -24.8584   \n",
       "\n",
       "       116      117     118      119  \n",
       "0  30.6666  -8.6215 -6.8471  14.2714  \n",
       "1  20.5491  -6.7502  3.9887   0.8218  \n",
       "2  20.7148 -12.1842 -4.7982   7.9128  \n",
       "3  20.8300 -11.4915 -0.3215 -14.5740  \n",
       "4  24.2855   0.7311 -1.4030  18.9437  \n",
       "\n",
       "[5 rows x 120 columns]"
      ]
     },
     "execution_count": 5,
     "metadata": {},
     "output_type": "execute_result"
    }
   ],
   "source": [
    "x.head()"
   ]
  },
  {
   "cell_type": "code",
   "execution_count": 6,
   "metadata": {},
   "outputs": [],
   "source": [
    "y = data.iloc[:,-1]"
   ]
  },
  {
   "cell_type": "code",
   "execution_count": 7,
   "metadata": {},
   "outputs": [],
   "source": [
    "x = pd.DataFrame(x)\n",
    "y = pd.DataFrame(y)"
   ]
  },
  {
   "cell_type": "code",
   "execution_count": 8,
   "metadata": {},
   "outputs": [
    {
     "data": {
      "text/plain": [
       "0      0\n",
       "1      0\n",
       "2      0\n",
       "3      0\n",
       "4      0\n",
       "      ..\n",
       "115    0\n",
       "116    0\n",
       "117    0\n",
       "118    0\n",
       "119    0\n",
       "Length: 120, dtype: int64"
      ]
     },
     "execution_count": 8,
     "metadata": {},
     "output_type": "execute_result"
    }
   ],
   "source": [
    "x.isna().sum()"
   ]
  },
  {
   "cell_type": "code",
   "execution_count": 9,
   "metadata": {},
   "outputs": [
    {
     "data": {
      "text/plain": [
       "120    0\n",
       "dtype: int64"
      ]
     },
     "execution_count": 9,
     "metadata": {},
     "output_type": "execute_result"
    }
   ],
   "source": [
    "y.isna().sum()"
   ]
  },
  {
   "cell_type": "code",
   "execution_count": 10,
   "metadata": {},
   "outputs": [],
   "source": [
    "from sklearn.model_selection import train_test_split\n",
    "x_train, x_test, y_train, y_test = train_test_split(x,y,test_size=0.3,random_state=42)"
   ]
  },
  {
   "cell_type": "code",
   "execution_count": 11,
   "metadata": {},
   "outputs": [],
   "source": [
    "from sklearn.ensemble import RandomForestClassifier"
   ]
  },
  {
   "cell_type": "code",
   "execution_count": 12,
   "metadata": {},
   "outputs": [],
   "source": [
    "model1 = RandomForestClassifier()"
   ]
  },
  {
   "cell_type": "code",
   "execution_count": 13,
   "metadata": {},
   "outputs": [
    {
     "name": "stderr",
     "output_type": "stream",
     "text": [
      "<ipython-input-13-05c88abb74fb>:1: DataConversionWarning: A column-vector y was passed when a 1d array was expected. Please change the shape of y to (n_samples,), for example using ravel().\n",
      "  model1.fit(x_train,y_train)\n"
     ]
    },
    {
     "data": {
      "text/plain": [
       "RandomForestClassifier()"
      ]
     },
     "execution_count": 13,
     "metadata": {},
     "output_type": "execute_result"
    }
   ],
   "source": [
    "model1.fit(x_train,y_train)"
   ]
  },
  {
   "cell_type": "code",
   "execution_count": 14,
   "metadata": {},
   "outputs": [
    {
     "data": {
      "text/plain": [
       "1.0"
      ]
     },
     "execution_count": 14,
     "metadata": {},
     "output_type": "execute_result"
    }
   ],
   "source": [
    "model1.score(x_test,y_test)"
   ]
  },
  {
   "cell_type": "code",
   "execution_count": 15,
   "metadata": {},
   "outputs": [],
   "source": [
    "from sklearn.tree import DecisionTreeClassifier"
   ]
  },
  {
   "cell_type": "code",
   "execution_count": 16,
   "metadata": {},
   "outputs": [],
   "source": [
    "model2 = DecisionTreeClassifier()"
   ]
  },
  {
   "cell_type": "code",
   "execution_count": 22,
   "metadata": {},
   "outputs": [
    {
     "data": {
      "text/plain": [
       "DecisionTreeClassifier()"
      ]
     },
     "execution_count": 22,
     "metadata": {},
     "output_type": "execute_result"
    }
   ],
   "source": [
    "model2.fit(x_train,y_train)"
   ]
  },
  {
   "cell_type": "code",
   "execution_count": 23,
   "metadata": {},
   "outputs": [
    {
     "data": {
      "text/plain": [
       "0.7424242424242424"
      ]
     },
     "execution_count": 23,
     "metadata": {},
     "output_type": "execute_result"
    }
   ],
   "source": [
    "model2.score(x_test,y_test)"
   ]
  },
  {
   "cell_type": "code",
   "execution_count": 24,
   "metadata": {},
   "outputs": [],
   "source": [
    "from sklearn.neighbors import KNeighborsClassifier"
   ]
  },
  {
   "cell_type": "code",
   "execution_count": 25,
   "metadata": {},
   "outputs": [],
   "source": [
    "model3 = KNeighborsClassifier()"
   ]
  },
  {
   "cell_type": "code",
   "execution_count": 26,
   "metadata": {},
   "outputs": [
    {
     "name": "stderr",
     "output_type": "stream",
     "text": [
      "<ipython-input-26-1f6124acafc4>:1: DataConversionWarning: A column-vector y was passed when a 1d array was expected. Please change the shape of y to (n_samples, ), for example using ravel().\n",
      "  model3.fit(x_train,y_train)\n"
     ]
    },
    {
     "data": {
      "text/plain": [
       "KNeighborsClassifier()"
      ]
     },
     "execution_count": 26,
     "metadata": {},
     "output_type": "execute_result"
    }
   ],
   "source": [
    "model3.fit(x_train,y_train)"
   ]
  },
  {
   "cell_type": "code",
   "execution_count": 27,
   "metadata": {},
   "outputs": [
    {
     "data": {
      "text/plain": [
       "1.0"
      ]
     },
     "execution_count": 27,
     "metadata": {},
     "output_type": "execute_result"
    }
   ],
   "source": [
    "model3.score(x_test,y_test)"
   ]
  },
  {
   "cell_type": "code",
   "execution_count": 29,
   "metadata": {},
   "outputs": [
    {
     "data": {
      "text/plain": [
       "array([13, 14,  9, 17,  2, 11, 16, 20,  7, 13, 10,  3, 18,  1,  7, 20, 16,\n",
       "        2, 18,  7, 18,  9, 20,  3, 12, 19,  9,  2,  5, 15, 11,  6, 10, 18,\n",
       "        7, 10,  8, 13, 13, 10,  8, 18, 11,  9,  8, 20, 11, 13, 12, 15, 20,\n",
       "        4,  3, 17, 13,  3,  2,  7, 19,  6,  7,  1, 13,  6, 15, 17],\n",
       "      dtype=int64)"
      ]
     },
     "execution_count": 29,
     "metadata": {},
     "output_type": "execute_result"
    }
   ],
   "source": [
    "model3.predict(x_test)"
   ]
  },
  {
   "cell_type": "code",
   "execution_count": null,
   "metadata": {},
   "outputs": [],
   "source": []
  }
 ],
 "metadata": {
  "kernelspec": {
   "display_name": "Python 3",
   "language": "python",
   "name": "python3"
  },
  "language_info": {
   "codemirror_mode": {
    "name": "ipython",
    "version": 3
   },
   "file_extension": ".py",
   "mimetype": "text/x-python",
   "name": "python",
   "nbconvert_exporter": "python",
   "pygments_lexer": "ipython3",
   "version": "3.8.3"
  }
 },
 "nbformat": 4,
 "nbformat_minor": 4
}
